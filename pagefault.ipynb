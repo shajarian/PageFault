{
  "nbformat": 4,
  "nbformat_minor": 0,
  "metadata": {
    "colab": {
      "provenance": [],
      "authorship_tag": "ABX9TyP8j1MbFrcdytdysw+R5EJJ",
      "include_colab_link": true
    },
    "kernelspec": {
      "name": "python3",
      "display_name": "Python 3"
    },
    "language_info": {
      "name": "python"
    }
  },
  "cells": [
    {
      "cell_type": "markdown",
      "metadata": {
        "id": "view-in-github",
        "colab_type": "text"
      },
      "source": [
        "<a href=\"https://colab.research.google.com/github/shajarian/PageFault/blob/main/pagefault.ipynb\" target=\"_parent\"><img src=\"https://colab.research.google.com/assets/colab-badge.svg\" alt=\"Open In Colab\"/></a>"
      ]
    },
    {
      "cell_type": "code",
      "execution_count": null,
      "metadata": {
        "colab": {
          "base_uri": "https://localhost:8080/"
        },
        "id": "e96oJYr85a2N",
        "outputId": "4a4a11e3-961c-476e-8f0e-8e75b6db4d3a"
      },
      "outputs": [
        {
          "output_type": "stream",
          "name": "stdout",
          "text": [
            "Best Algorithm: FIFO with 10 page faults\n"
          ]
        }
      ],
      "source": [
        "def fifo(seq, frames):\n",
        "    q, faults = [], 0\n",
        "    for p in seq:\n",
        "        if p not in q:\n",
        "            if len(q) < frames:\n",
        "                q.append(p)\n",
        "            else:\n",
        "                q.pop(0)\n",
        "                q.append(p)\n",
        "            faults += 1\n",
        "    return faults\n",
        "\n",
        "def lru(seq, frames):\n",
        "    stack, faults = [], 0\n",
        "    for p in seq:\n",
        "        if p not in stack:\n",
        "            if len(stack) < frames:\n",
        "                stack.append(p)\n",
        "            else:\n",
        "                stack.remove(stack[0])\n",
        "                stack.append(p)\n",
        "            faults += 1\n",
        "        else:\n",
        "            stack.remove(p)\n",
        "            stack.append(p)\n",
        "    return faults\n",
        "\n",
        "def second_chance(seq, frames):\n",
        "    q, faults, ref_bits, pointer = [], 0, {}, 0\n",
        "    for p in seq:\n",
        "        if p not in q:\n",
        "            if len(q) < frames:\n",
        "                q.append(p)\n",
        "                ref_bits[p] = 0\n",
        "            else:\n",
        "                while ref_bits[q[pointer]] == 1:\n",
        "                    ref_bits[q[pointer]] = 0\n",
        "                    pointer = (pointer + 1) % frames\n",
        "                ref_bits.pop(q[pointer])\n",
        "                q[pointer] = p\n",
        "                ref_bits[p] = 0\n",
        "                pointer = (pointer + 1) % frames\n",
        "            faults += 1\n",
        "        else:\n",
        "            ref_bits[p] = 1\n",
        "    return faults\n",
        "\n",
        "def best_algorithm(seq):\n",
        "    f, l, s = fifo(seq, 3), lru(seq, 3), second_chance(seq, 3)\n",
        "    best = min([(\"FIFO\", f), (\"LRU\", l), (\"Second-Chance\", s)], key=lambda x: x[1])\n",
        "    return best\n",
        "\n",
        "seq = [1,4,6,8,2,3,5,6,2,1]\n",
        "best = best_algorithm(seq)\n",
        "print(f\"Best Algorithm: {best[0]} with {best[1]} page faults\")"
      ]
    },
    {
      "cell_type": "code",
      "source": [
        "def fifo(page_reference, frames):\n",
        "    frame_set, page_faults = [], 0\n",
        "    for page in page_reference:\n",
        "        if page not in frame_set:\n",
        "            if len(frame_set) < frames:\n",
        "                frame_set.append(page)\n",
        "            else:\n",
        "                frame_set.pop(0)\n",
        "                frame_set.append(page)\n",
        "            page_faults += 1\n",
        "    return page_faults\n",
        "\n",
        "def lru(page_reference, frames):\n",
        "    frame_set, page_faults = [], 0\n",
        "    recent_pages = []\n",
        "    for page in page_reference:\n",
        "        if page not in frame_set:\n",
        "            if len(frame_set) < frames:\n",
        "                frame_set.append(page)\n",
        "            else:\n",
        "                lru_page = recent_pages[0]\n",
        "                frame_set.remove(lru_page)\n",
        "                frame_set.append(page)\n",
        "            page_faults += 1\n",
        "        recent_pages = [page for page in recent_pages if page != page] + [page]\n",
        "    return page_faults\n",
        "\n",
        "def second_chance(page_reference, frames):\n",
        "    frame_set, page_faults, pointer, ref_bits = [], 0, 0, {}\n",
        "    for page in page_reference:\n",
        "        if page not in frame_set:\n",
        "            while True:\n",
        "                if len(frame_set) < frames:\n",
        "                    frame_set.append(page)\n",
        "                    ref_bits[page] = 0\n",
        "                    break\n",
        "                if ref_bits[frame_set[pointer]] == 1:\n",
        "                    ref_bits[frame_set[pointer]] = 0\n",
        "                    pointer = (pointer + 1) % frames\n",
        "                else:\n",
        "                    ref_bits.pop(frame_set[pointer])\n",
        "                    frame_set[pointer] = page\n",
        "                    ref_bits[page] = 0\n",
        "                    pointer = (pointer + 1) % frames\n",
        "                    break\n",
        "            page_faults += 1\n",
        "        else:\n",
        "            ref_bits[page] = 1\n",
        "    return page_faults\n",
        "\n",
        "def best_algorithm(page_reference, frames=3):\n",
        "    algorithms = ['FIFO', 'LRU', 'Second-Chance']\n",
        "    results = {\n",
        "        'FIFO': fifo(page_reference, frames),\n",
        "        'LRU': lru(page_reference, frames),\n",
        "        'Second-Chance': second_chance(page_reference, frames)\n",
        "    }\n",
        "    best_algo = min(results, key=results.get)\n",
        "    return best_algo, results\n",
        "\n",
        "page_reference = [1,4,6,8,2,3,5,6,2,1]\n",
        "best, results = best_algorithm(page_reference)\n",
        "print(f\"Best Algorithm: {best} with {results[best]} page faults\")\n",
        "print(f\"Results: {results}\")\n"
      ],
      "metadata": {
        "colab": {
          "base_uri": "https://localhost:8080/"
        },
        "id": "oOK6g8b46bgO",
        "outputId": "4afb58ad-d3b0-41f1-b50a-38326dc055a8"
      },
      "execution_count": null,
      "outputs": [
        {
          "output_type": "stream",
          "name": "stdout",
          "text": [
            "Best Algorithm: LRU with 9 page faults\n",
            "Results: {'FIFO': 10, 'LRU': 9, 'Second-Chance': 10}\n"
          ]
        }
      ]
    },
    {
      "cell_type": "code",
      "source": [
        "def fifo(seq, frames):\n",
        "    q, faults = [], 0\n",
        "    for p in seq:\n",
        "        if p not in q:\n",
        "            if len(q) < frames:\n",
        "                q.append(p)\n",
        "            else:\n",
        "                q.pop(0)\n",
        "                q.append(p)\n",
        "            faults += 1\n",
        "    return faults\n",
        "\n",
        "def lru(seq, frames):\n",
        "    stack, faults = [], 0\n",
        "    for p in seq:\n",
        "        if p not in stack:\n",
        "            if len(stack) < frames:\n",
        "                stack.append(p)\n",
        "            else:\n",
        "                stack.remove(stack[0])\n",
        "                stack.append(p)\n",
        "            faults += 1\n",
        "        else:\n",
        "            stack.remove(p)\n",
        "            stack.append(p)\n",
        "    return faults\n",
        "\n",
        "def second_chance(page_reference, frames):\n",
        "    frame_set, page_faults, pointer, ref_bits = [], 0, 0, {}\n",
        "    for page in page_reference:\n",
        "        if page not in frame_set:\n",
        "            while True:\n",
        "                if len(frame_set) < frames:\n",
        "                    frame_set.append(page)\n",
        "                    ref_bits[page] = 0\n",
        "                    break\n",
        "                if ref_bits[frame_set[pointer]] == 1:\n",
        "                    ref_bits[frame_set[pointer]] = 0\n",
        "                    pointer = (pointer + 1) % frames\n",
        "                else:\n",
        "                    ref_bits.pop(frame_set[pointer])\n",
        "                    frame_set[pointer] = page\n",
        "                    ref_bits[page] = 0\n",
        "                    pointer = (pointer + 1) % frames\n",
        "                    break\n",
        "            page_faults += 1\n",
        "        else:\n",
        "            ref_bits[page] = 1\n",
        "    return page_faults\n",
        "\n",
        "def best_algorithm(seq):\n",
        "    f, l, s = fifo(seq, 3), lru(seq, 3), second_chance(seq, 3)\n",
        "    best = min([(\"FIFO\", f), (\"LRU\", l), (\"Second-Chance\", s)], key=lambda x: x[1])\n",
        "    return best\n",
        "\n",
        "seq = [1,4,6,8,2,3,5,6,2,1]\n",
        "best = best_algorithm(seq)\n",
        "print(f\"Best Algorithm: {best[0]} with {best[1]} page faults\")\n"
      ],
      "metadata": {
        "colab": {
          "base_uri": "https://localhost:8080/"
        },
        "id": "BGTkS8n36vqb",
        "outputId": "e2f288cf-5b78-457b-aa49-73f99f09dfed"
      },
      "execution_count": null,
      "outputs": [
        {
          "output_type": "stream",
          "name": "stdout",
          "text": [
            "Best Algorithm: FIFO with 10 page faults\n"
          ]
        }
      ]
    },
    {
      "cell_type": "code",
      "source": [
        "def fifo(seq, frames):\n",
        "    q, faults = [], 0\n",
        "    for p in seq:\n",
        "        if p not in q:\n",
        "            if len(q) < frames:\n",
        "                q.append(p)\n",
        "            else:\n",
        "                q.pop(0)\n",
        "                q.append(p)\n",
        "            faults += 1\n",
        "    return faults\n",
        "\n",
        "def lru(seq, frames):\n",
        "    stack, faults = [], 0\n",
        "    for p in seq:\n",
        "        if p not in stack:\n",
        "            if len(stack) < frames:\n",
        "                stack.append(p)\n",
        "            else:\n",
        "                stack.remove(stack[0])\n",
        "                stack.append(p)\n",
        "            faults += 1\n",
        "        else:\n",
        "            stack.remove(p)\n",
        "            stack.append(p)\n",
        "    return faults\n",
        "\n",
        "def second_chance(seq, frames):\n",
        "    q, faults, ref_bits, pointer = [], 0, {}, 0\n",
        "    for p in seq:\n",
        "        if p not in q:\n",
        "            if len(q) < frames:\n",
        "                q.append(p)\n",
        "                ref_bits[p] = 0\n",
        "            else:\n",
        "                while ref_bits[q[pointer]] == 1:\n",
        "                    ref_bits[q[pointer]] = 0\n",
        "                    pointer = (pointer + 1) % frames\n",
        "                ref_bits.pop(q[pointer])\n",
        "                q[pointer] = p\n",
        "                ref_bits[p] = 0\n",
        "                pointer = (pointer + 1) % frames\n",
        "            faults += 1\n",
        "        else:\n",
        "            ref_bits[p] = 1\n",
        "    return faults\n",
        "\n",
        "def best_algorithm(seq):\n",
        "    f, l, s = fifo(seq, 3), lru(seq, 3), second_chance(seq, 3)\n",
        "    best = min([(\"FIFO\", f), (\"LRU\", l), (\"Second-Chance\", s)], key=lambda x: x[1])\n",
        "    return best\n",
        "\n",
        "seq = [1,4,6,8,2,3,5,6,2,1]\n",
        "best = best_algorithm(seq)\n",
        "print(f\"Best Algorithm: {best[0]} with {best[1]} page faults\")\n"
      ],
      "metadata": {
        "colab": {
          "base_uri": "https://localhost:8080/"
        },
        "id": "RvDriSq17dD1",
        "outputId": "76cb622a-827c-4ec8-c93b-c820f3fdcd36"
      },
      "execution_count": null,
      "outputs": [
        {
          "output_type": "stream",
          "name": "stdout",
          "text": [
            "Best Algorithm: FIFO with 10 page faults\n"
          ]
        }
      ]
    },
    {
      "cell_type": "markdown",
      "source": [],
      "metadata": {
        "id": "D00pS95j_8l5"
      }
    },
    {
      "cell_type": "code",
      "source": [
        "def fifo(page_references, frame_size):\n",
        "    page_faults = 0\n",
        "    frames = []\n",
        "    for page in page_references:\n",
        "        if page not in frames:\n",
        "            if len(frames) < frame_size:\n",
        "                frames.append(page)\n",
        "            else:\n",
        "                frames.pop(0)\n",
        "                frames.append(page)\n",
        "            page_faults += 1\n",
        "    return page_faults\n",
        "\n",
        "def lru(page_references, frame_size):\n",
        "    page_faults = 0\n",
        "    frames = []\n",
        "    page_index = {}\n",
        "    for i, page in enumerate(page_references):\n",
        "        if page in frames:\n",
        "            page_index[page] = i\n",
        "        else:\n",
        "            if len(frames) < frame_size:\n",
        "                frames.append(page)\n",
        "                page_index[page] = i\n",
        "            else:\n",
        "                least_recently_used_page = min(frames, key=lambda x: page_index[x])\n",
        "                frames.remove(least_recently_used_page)\n",
        "                del page_index[least_recently_used_page]\n",
        "                frames.append(page)\n",
        "                page_index[page] = i\n",
        "            page_faults += 1\n",
        "    return page_faults\n",
        "\n",
        "def second_chance(page_references, frame_size):\n",
        "    page_faults = 0\n",
        "    frames = []\n",
        "    reference_bit = {}\n",
        "    for page in page_references:\n",
        "        if page in frames:\n",
        "            reference_bit[page] = 1\n",
        "        else:\n",
        "            if len(frames) < frame_size:\n",
        "                frames.append(page)\n",
        "                reference_bit[page] = 0\n",
        "            else:\n",
        "                while True:\n",
        "                    evicted_page = frames.pop(0)\n",
        "                    if reference_bit[evicted_page] == 0:\n",
        "                        break\n",
        "                    else:\n",
        "                        reference_bit[evicted_page] = 0\n",
        "                        frames.append(evicted_page)\n",
        "                frames.append(page)\n",
        "                reference_bit[page] = 0\n",
        "            page_faults += 1\n",
        "    return page_faults\n",
        "\n",
        "if __name__ == \"__main__\":\n",
        "    page_reference_string = input(\"Enter the page reference string (e.g., 1,4,6,8,2,3,5,6,2,1): \")\n",
        "    page_references = [int(page) for page in page_reference_string.split(\",\")]\n",
        "    frame_size = int(input(\"Enter the frame size: \"))\n",
        "\n",
        "    fifo_faults = fifo(page_references, frame_size)\n",
        "    lru_faults = lru(page_references, frame_size)\n",
        "    second_chance_faults = second_chance(page_references, frame_size)\n",
        "\n",
        "    print(f\"FIFO Page Faults: {fifo_faults}\")\n",
        "    print(f\"LRU Page Faults: {lru_faults}\")\n",
        "    print(f\"Second-Chance Page Faults: {second_chance_faults}\")\n",
        "\n",
        "    best_algorithm = min([(fifo_faults, 'FIFO'), (lru_faults, 'LRU'), (second_chance_faults, 'Second-Chance')])\n",
        "    print(f\"The best algorithm is {best_algorithm[1]} with {best_algorithm[0]} page faults.\")\n"
      ],
      "metadata": {
        "colab": {
          "base_uri": "https://localhost:8080/"
        },
        "id": "J230dBBk_83u",
        "outputId": "74d9f0d2-ae11-4fa3-cb66-eed3c3deed90"
      },
      "execution_count": null,
      "outputs": [
        {
          "output_type": "stream",
          "name": "stdout",
          "text": [
            "Enter the page reference string (e.g., 1,4,6,8,2,3,5,6,2,1): 1,4,6,8,2,3,5,6,2,1\n",
            "Enter the frame size: 3\n",
            "FIFO Page Faults: 10\n",
            "LRU Page Faults: 10\n",
            "Second-Chance Page Faults: 10\n",
            "The best algorithm is FIFO with 10 page faults.\n"
          ]
        }
      ]
    },
    {
      "cell_type": "code",
      "source": [
        "def page_faults(page_references, frame_size, algorithm):\n",
        "    frames = []\n",
        "    page_faults = 0\n",
        "    for page in page_references:\n",
        "        if page not in frames:\n",
        "            if len(frames) < frame_size:\n",
        "                frames.append(page)\n",
        "            else:\n",
        "                if algorithm == 'FIFO':\n",
        "                    frames.pop(0)\n",
        "                elif algorithm == 'LRU':\n",
        "                    frames.remove(frames[0])\n",
        "                elif algorithm == 'Second-Chance':\n",
        "                    while True:\n",
        "                        if frames[0] in page_references[page_references.index(page):]:\n",
        "                            frames.append(frames.pop(0))\n",
        "                        else:\n",
        "                            frames.pop(0)\n",
        "                            break\n",
        "                frames.append(page)\n",
        "            page_faults += 1\n",
        "    return page_faults\n",
        "\n",
        "if __name__ == \"__main__\":\n",
        "    page_reference_string = input(\"Enter the page reference string (e.g., 1,4,6,8,2,3,5,6,2,1): \")\n",
        "    page_references = [int(page) for page in page_reference_string.split(\",\")]\n",
        "    frame_size = int(input(\"Enter the frame size: \"))\n",
        "\n",
        "    algorithms = ['FIFO', 'LRU', 'Second-Chance']\n",
        "    best_algorithm = min(algorithms, key=lambda alg: page_faults(page_references, frame_size, alg))\n",
        "\n",
        "    print(f\"The best algorithm is {best_algorithm} with {page_faults(page_references, frame_size, best_algorithm)} page faults.\")\n",
        "\n"
      ],
      "metadata": {
        "colab": {
          "base_uri": "https://localhost:8080/",
          "height": 425
        },
        "id": "ZelcqgeZAE8L",
        "outputId": "abf235e5-7014-4b97-acbf-52ef3cd7c3d8"
      },
      "execution_count": null,
      "outputs": [
        {
          "name": "stdout",
          "output_type": "stream",
          "text": [
            "Enter the page reference string (e.g., 1,4,6,8,2,3,5,6,2,1): 1,4,6,8,2,3,5,6,2,1\n",
            "Enter the frame size: 3\n"
          ]
        },
        {
          "output_type": "error",
          "ename": "KeyboardInterrupt",
          "evalue": "ignored",
          "traceback": [
            "\u001b[0;31m---------------------------------------------------------------------------\u001b[0m",
            "\u001b[0;31mKeyboardInterrupt\u001b[0m                         Traceback (most recent call last)",
            "\u001b[0;32m<ipython-input-7-23d394b59770>\u001b[0m in \u001b[0;36m<cell line: 24>\u001b[0;34m()\u001b[0m\n\u001b[1;32m     28\u001b[0m \u001b[0;34m\u001b[0m\u001b[0m\n\u001b[1;32m     29\u001b[0m     \u001b[0malgorithms\u001b[0m \u001b[0;34m=\u001b[0m \u001b[0;34m[\u001b[0m\u001b[0;34m'FIFO'\u001b[0m\u001b[0;34m,\u001b[0m \u001b[0;34m'LRU'\u001b[0m\u001b[0;34m,\u001b[0m \u001b[0;34m'Second-Chance'\u001b[0m\u001b[0;34m]\u001b[0m\u001b[0;34m\u001b[0m\u001b[0;34m\u001b[0m\u001b[0m\n\u001b[0;32m---> 30\u001b[0;31m     \u001b[0mbest_algorithm\u001b[0m \u001b[0;34m=\u001b[0m \u001b[0mmin\u001b[0m\u001b[0;34m(\u001b[0m\u001b[0malgorithms\u001b[0m\u001b[0;34m,\u001b[0m \u001b[0mkey\u001b[0m\u001b[0;34m=\u001b[0m\u001b[0;32mlambda\u001b[0m \u001b[0malg\u001b[0m\u001b[0;34m:\u001b[0m \u001b[0mpage_faults\u001b[0m\u001b[0;34m(\u001b[0m\u001b[0mpage_references\u001b[0m\u001b[0;34m,\u001b[0m \u001b[0mframe_size\u001b[0m\u001b[0;34m,\u001b[0m \u001b[0malg\u001b[0m\u001b[0;34m)\u001b[0m\u001b[0;34m)\u001b[0m\u001b[0;34m\u001b[0m\u001b[0;34m\u001b[0m\u001b[0m\n\u001b[0m\u001b[1;32m     31\u001b[0m \u001b[0;34m\u001b[0m\u001b[0m\n\u001b[1;32m     32\u001b[0m     \u001b[0mprint\u001b[0m\u001b[0;34m(\u001b[0m\u001b[0;34mf\"The best algorithm is {best_algorithm} with {page_faults(page_references, frame_size, best_algorithm)} page faults.\"\u001b[0m\u001b[0;34m)\u001b[0m\u001b[0;34m\u001b[0m\u001b[0;34m\u001b[0m\u001b[0m\n",
            "\u001b[0;32m<ipython-input-7-23d394b59770>\u001b[0m in \u001b[0;36m<lambda>\u001b[0;34m(alg)\u001b[0m\n\u001b[1;32m     28\u001b[0m \u001b[0;34m\u001b[0m\u001b[0m\n\u001b[1;32m     29\u001b[0m     \u001b[0malgorithms\u001b[0m \u001b[0;34m=\u001b[0m \u001b[0;34m[\u001b[0m\u001b[0;34m'FIFO'\u001b[0m\u001b[0;34m,\u001b[0m \u001b[0;34m'LRU'\u001b[0m\u001b[0;34m,\u001b[0m \u001b[0;34m'Second-Chance'\u001b[0m\u001b[0;34m]\u001b[0m\u001b[0;34m\u001b[0m\u001b[0;34m\u001b[0m\u001b[0m\n\u001b[0;32m---> 30\u001b[0;31m     \u001b[0mbest_algorithm\u001b[0m \u001b[0;34m=\u001b[0m \u001b[0mmin\u001b[0m\u001b[0;34m(\u001b[0m\u001b[0malgorithms\u001b[0m\u001b[0;34m,\u001b[0m \u001b[0mkey\u001b[0m\u001b[0;34m=\u001b[0m\u001b[0;32mlambda\u001b[0m \u001b[0malg\u001b[0m\u001b[0;34m:\u001b[0m \u001b[0mpage_faults\u001b[0m\u001b[0;34m(\u001b[0m\u001b[0mpage_references\u001b[0m\u001b[0;34m,\u001b[0m \u001b[0mframe_size\u001b[0m\u001b[0;34m,\u001b[0m \u001b[0malg\u001b[0m\u001b[0;34m)\u001b[0m\u001b[0;34m)\u001b[0m\u001b[0;34m\u001b[0m\u001b[0;34m\u001b[0m\u001b[0m\n\u001b[0m\u001b[1;32m     31\u001b[0m \u001b[0;34m\u001b[0m\u001b[0m\n\u001b[1;32m     32\u001b[0m     \u001b[0mprint\u001b[0m\u001b[0;34m(\u001b[0m\u001b[0;34mf\"The best algorithm is {best_algorithm} with {page_faults(page_references, frame_size, best_algorithm)} page faults.\"\u001b[0m\u001b[0;34m)\u001b[0m\u001b[0;34m\u001b[0m\u001b[0;34m\u001b[0m\u001b[0m\n",
            "\u001b[0;32m<ipython-input-7-23d394b59770>\u001b[0m in \u001b[0;36mpage_faults\u001b[0;34m(page_references, frame_size, algorithm)\u001b[0m\n\u001b[1;32m     14\u001b[0m                     \u001b[0;32mwhile\u001b[0m \u001b[0;32mTrue\u001b[0m\u001b[0;34m:\u001b[0m\u001b[0;34m\u001b[0m\u001b[0;34m\u001b[0m\u001b[0m\n\u001b[1;32m     15\u001b[0m                         \u001b[0;32mif\u001b[0m \u001b[0mframes\u001b[0m\u001b[0;34m[\u001b[0m\u001b[0;36m0\u001b[0m\u001b[0;34m]\u001b[0m \u001b[0;32min\u001b[0m \u001b[0mpage_references\u001b[0m\u001b[0;34m[\u001b[0m\u001b[0mpage_references\u001b[0m\u001b[0;34m.\u001b[0m\u001b[0mindex\u001b[0m\u001b[0;34m(\u001b[0m\u001b[0mpage\u001b[0m\u001b[0;34m)\u001b[0m\u001b[0;34m:\u001b[0m\u001b[0;34m]\u001b[0m\u001b[0;34m:\u001b[0m\u001b[0;34m\u001b[0m\u001b[0;34m\u001b[0m\u001b[0m\n\u001b[0;32m---> 16\u001b[0;31m                             \u001b[0mframes\u001b[0m\u001b[0;34m.\u001b[0m\u001b[0mappend\u001b[0m\u001b[0;34m(\u001b[0m\u001b[0mframes\u001b[0m\u001b[0;34m.\u001b[0m\u001b[0mpop\u001b[0m\u001b[0;34m(\u001b[0m\u001b[0;36m0\u001b[0m\u001b[0;34m)\u001b[0m\u001b[0;34m)\u001b[0m\u001b[0;34m\u001b[0m\u001b[0;34m\u001b[0m\u001b[0m\n\u001b[0m\u001b[1;32m     17\u001b[0m                         \u001b[0;32melse\u001b[0m\u001b[0;34m:\u001b[0m\u001b[0;34m\u001b[0m\u001b[0;34m\u001b[0m\u001b[0m\n\u001b[1;32m     18\u001b[0m                             \u001b[0mframes\u001b[0m\u001b[0;34m.\u001b[0m\u001b[0mpop\u001b[0m\u001b[0;34m(\u001b[0m\u001b[0;36m0\u001b[0m\u001b[0;34m)\u001b[0m\u001b[0;34m\u001b[0m\u001b[0;34m\u001b[0m\u001b[0m\n",
            "\u001b[0;31mKeyboardInterrupt\u001b[0m: "
          ]
        }
      ]
    },
    {
      "cell_type": "code",
      "source": [
        "def fifo(ref, f):\n",
        "    frames, pf = [], 0\n",
        "    for p in ref:\n",
        "        if p not in frames:\n",
        "            if len(frames) < f: frames.append(p)\n",
        "            else:\n",
        "                frames.pop(0)\n",
        "                frames.append(p)\n",
        "            pf += 1\n",
        "    return pf\n",
        "\n",
        "def lru(ref, f):\n",
        "    frames, pf = [], 0\n",
        "    for p in ref:\n",
        "        if p in frames: frames.remove(p)\n",
        "        else:\n",
        "            if len(frames) >= f: frames.pop(0)\n",
        "            pf += 1\n",
        "        frames.append(p)\n",
        "    return pf\n",
        "\n",
        "def second_chance(ref, f):\n",
        "    frames, rb, pf = [], {}, 0\n",
        "    for p in ref:\n",
        "        if p in frames:\n",
        "            rb[p] = 1\n",
        "        else:\n",
        "            while True:\n",
        "                if len(frames) == f:\n",
        "                    c = frames.pop(0)\n",
        "                    if rb[c] == 0: break\n",
        "                    else:\n",
        "                        rb[c] = 0\n",
        "                        frames.append(c)\n",
        "                else: break\n",
        "            frames.append(p)\n",
        "            rb[p] = 0\n",
        "            pf += 1\n",
        "    return pf\n",
        "\n",
        "if __name__ == \"__main__\":\n",
        "    ref_str = input(\"Enter the page reference string (e.g., 1,4,6,8,2,3,5,6,2,1): \")\n",
        "    ref = [int(p) for p in ref_str.split(\",\")]\n",
        "    f = int(input(\"Enter the frame size: \"))\n",
        "\n",
        "    fifo_pf = fifo(ref, f)\n",
        "    lru_pf = lru(ref, f)\n",
        "    sc_pf = second_chance(ref, f)\n",
        "\n",
        "    pfs = {'FIFO': fifo_pf, 'LRU': lru_pf, 'SC': sc_pf}\n",
        "    best_alg, best_pf = min(pfs.items(), key=lambda x: x[1])\n",
        "\n",
        "    print(f\"The best algorithm is {best_alg} with {best_pf} page faults.\")\n"
      ],
      "metadata": {
        "colab": {
          "base_uri": "https://localhost:8080/"
        },
        "id": "ZdO7QlQUAq83",
        "outputId": "cbd7c252-4d05-452e-fe40-6e71afc27e8b"
      },
      "execution_count": null,
      "outputs": [
        {
          "output_type": "stream",
          "name": "stdout",
          "text": [
            "Enter the page reference string (e.g., 1,4,6,8,2,3,5,6,2,1): 1,4,6,8,2,3,5,6,2,1\n",
            "Enter the frame size: 3\n",
            "The best algorithm is FIFO with 10 page faults.\n"
          ]
        }
      ]
    },
    {
      "cell_type": "code",
      "source": [
        "def fifo(ref, f):\n",
        "    frames, pf = [], 0\n",
        "    for p in ref:\n",
        "        if p not in frames:\n",
        "            if len(frames) < f: frames.append(p)\n",
        "            else:\n",
        "                frames.pop(0)\n",
        "                frames.append(p)\n",
        "            pf += 1\n",
        "    return pf\n",
        "\n",
        "def lru(ref, f):\n",
        "    frames, pf = [], 0\n",
        "    for p in ref:\n",
        "        if p in frames: frames.remove(p)\n",
        "        else:\n",
        "            if len(frames) >= f: frames.pop(0)\n",
        "            pf += 1\n",
        "        frames.append(p)\n",
        "    return pf\n",
        "\n",
        "def second_chance(ref, f):\n",
        "    frames, rb, pf = [], {}, 0\n",
        "    for p in ref:\n",
        "        if p in frames:\n",
        "            rb[p] = 1\n",
        "        else:\n",
        "            while True:\n",
        "                if len(frames) == f:\n",
        "                    c = frames.pop(0)\n",
        "                    if rb[c] == 0: break\n",
        "                    else:\n",
        "                        rb[c] = 0\n",
        "                        frames.append(c)\n",
        "                else: break\n",
        "            frames.append(p)\n",
        "            rb[p] = 0\n",
        "            pf += 1\n",
        "    return pf\n",
        "\n",
        "if __name__ == \"__main__\":\n",
        "    ref_str = input(\"Enter the page reference string (e.g., 1,4,6,8,2,3,5,6,2,1): \")\n",
        "    ref = [int(p) for p in ref_str.split(\",\")]\n",
        "    f = int(input(\"Enter the frame size: \"))\n",
        "\n",
        "    fifo_pf = fifo(ref, f)\n",
        "    lru_pf = lru(ref, f)\n",
        "    sc_pf = second_chance(ref, f)\n",
        "\n",
        "    print(f\"FIFO Page Faults: {fifo_pf}\")\n",
        "    print(f\"LRU Page Faults: {lru_pf}\")\n",
        "    print(f\"Second-Chance Page Faults: {sc_pf}\")\n",
        "\n",
        "    pfs = {'FIFO': fifo_pf, 'LRU': lru_pf, 'SC': sc_pf}\n",
        "    best_alg, best_pf = min(pfs.items(), key=lambda x: x[1])\n",
        "\n",
        "    print(f\"\\nThe best algorithm is {best_alg} with {best_pf} page faults.\")\n"
      ],
      "metadata": {
        "id": "T4_3UEbNA6dZ",
        "outputId": "53b85c92-9779-4cb9-ebd6-c436c262b011",
        "colab": {
          "base_uri": "https://localhost:8080/"
        }
      },
      "execution_count": null,
      "outputs": [
        {
          "output_type": "stream",
          "name": "stdout",
          "text": [
            "Enter the page reference string (e.g., 1,4,6,8,2,3,5,6,2,1): 1,4,6,8,2,3,5,6,2,1\n",
            "Enter the frame size: 3\n",
            "FIFO Page Faults: 10\n",
            "LRU Page Faults: 10\n",
            "Second-Chance Page Faults: 10\n",
            "\n",
            "The best algorithm is FIFO with 10 page faults.\n"
          ]
        }
      ]
    }
  ]
}